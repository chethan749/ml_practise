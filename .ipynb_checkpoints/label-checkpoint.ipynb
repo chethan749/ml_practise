{
 "cells": [
  {
   "cell_type": "code",
   "execution_count": 8,
   "metadata": {},
   "outputs": [],
   "source": [
    "import cv2\n",
    "import numpy as np\n",
    "from scipy import misc"
   ]
  },
  {
   "cell_type": "code",
   "execution_count": 9,
   "metadata": {},
   "outputs": [],
   "source": [
    "def label(event, x, y, flags, param):\n",
    "    if event == cv2.EVENT_LBUTTONDOWN:\n",
    "        cv2.rectangle(img, (x, y), (x + 1, y + 1), (255, 255, 255), -1)\n",
    "        cv2.rectangle(mask, (x, y), (x + 1, y + 1), 255, -1)\n",
    "        points.append((x, y))"
   ]
  },
  {
   "cell_type": "code",
   "execution_count": 10,
   "metadata": {},
   "outputs": [],
   "source": [
    "img = cv2.imread('/home/chethan/Desktop/rrsc-rv/data/test-tif2jpg.jpg')\n",
    "orig_shape = img.shape\n",
    "img = cv2.resize(img, (1200, int(img.shape[0] / img.shape[1] * 1200)), cv2.INTER_CUBIC)\n",
    "mask = np.zeros((img.shape[0], img.shape[1]), dtype = np.uint8)\n",
    "points = []\n",
    "# print(img[100, 100])"
   ]
  },
  {
   "cell_type": "code",
   "execution_count": 11,
   "metadata": {},
   "outputs": [],
   "source": [
    "cv2.namedWindow('Output')\n",
    "cv2.setMouseCallback('Output', label)"
   ]
  },
  {
   "cell_type": "code",
   "execution_count": 12,
   "metadata": {},
   "outputs": [],
   "source": [
    "while(True):\n",
    "    cv2.imshow('Output', img)\n",
    "    k = cv2.waitKey(1)\n",
    "    if k == ord('l'):\n",
    "        if len(points) >= 2:\n",
    "            points.append(points[0])\n",
    "            for i in range(1, len(points)):\n",
    "                cv2.line(img, points[i], points[i - 1], (255, 255, 255), 1)\n",
    "                cv2.fillPoly(mask, np.array([points]), 255, 1)\n",
    "        points.clear()\n",
    "    if k == ord('a'):\n",
    "        mask1 = cv2.resize(mask, (orig_shape[1], orig_shape[0]), cv2.INTER_CUBIC)\n",
    "        cv2.imwrite('/home/chethan/Desktop/rrsc-rv/data/label.jpg', mask1)\n",
    "    if k == 27 or k == ord('q'):\n",
    "        break"
   ]
  },
  {
   "cell_type": "code",
   "execution_count": 13,
   "metadata": {},
   "outputs": [],
   "source": [
    "cv2.destroyAllWindows()"
   ]
  },
  {
   "cell_type": "code",
   "execution_count": null,
   "metadata": {},
   "outputs": [],
   "source": []
  }
 ],
 "metadata": {
  "kernelspec": {
   "display_name": "Python 3",
   "language": "python",
   "name": "python3"
  },
  "language_info": {
   "codemirror_mode": {
    "name": "ipython",
    "version": 3
   },
   "file_extension": ".py",
   "mimetype": "text/x-python",
   "name": "python",
   "nbconvert_exporter": "python",
   "pygments_lexer": "ipython3",
   "version": "3.5.2"
  }
 },
 "nbformat": 4,
 "nbformat_minor": 2
}
